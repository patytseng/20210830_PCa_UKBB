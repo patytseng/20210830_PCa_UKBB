{
 "cells": [
  {
   "cell_type": "code",
   "execution_count": 1,
   "metadata": {},
   "outputs": [],
   "source": [
    "from matplotlib import pyplot as plt\n",
    "import pandas as pd\n",
    "import numpy as np"
   ]
  },
  {
   "cell_type": "code",
   "execution_count": 2,
   "metadata": {},
   "outputs": [],
   "source": [
    "in_path = '/mnt/stsi/stsi1/ptseng/UKBB_Resources/phenos/pejman_request.txt'\n",
    "raw_out_path = '../regenie_input/PCa_pheno_raw.txt'\n",
    "out_path = '../regenie_input/PCa_pheno.txt'"
   ]
  },
  {
   "cell_type": "code",
   "execution_count": 3,
   "metadata": {},
   "outputs": [],
   "source": [
    "def find_index(input_list,targets):\n",
    "    index = 0\n",
    "    index_list = []\n",
    "    for element in input_list:\n",
    "        for target in targets:\n",
    "            if element == target:\n",
    "                targets.remove(target)\n",
    "                index_list.append(index)\n",
    "        index += 1\n",
    "    return (index_list,targets)"
   ]
  },
  {
   "cell_type": "code",
   "execution_count": 4,
   "metadata": {},
   "outputs": [
    {
     "name": "stdout",
     "output_type": "stream",
     "text": [
      "Targets at positions: 860 861 862 863 864 865 866 867 8608 8609 8610 8611 8612 8613 8614 8615 8616 8617 8618 8619 8620 8621 8622 8623 8624 8625 8626 8627 8628 8629 8630 8631 8632 8633 8634 8635 8636 8637 8638 8639 8640 8641 8642 8643 8644 8645 8646 8647 8703 8704 8705 8706 8707 8708 8709 8710 8711 8712 8713 8714 8715 8716 8717 8718 8719 8720 8721 8722 8723 8724 8725 8726 8727 8728 8729 8730 8731 8732 8733 8734 8735 8736 8737 8738 8739 8740 8741 8742 8743 8744 8745 8746 8747 8748 8749 8750 8751 8752 8753 8754 8755 8756 8757 8758 8759 8760 8761 8762 8763 8764 8765 8766 8767 8768 8769 8770 8771 8772 8773 8774 8775 8776 8777 8778 8779 8780 8781 8782 8783 8784 8785 8786 8787 8788 8789 8790 8791 8792 8793 8794 14642 14643 14644 14645 14646 14647 14648 14649 14650 14651 14652 14653 14654 14655 14656 14657 14658\n",
      "Missing targets: \n"
     ]
    }
   ],
   "source": [
    "columns_of_interest = [\n",
    "    \"f.40006.0.0\", \"f.40006.1.0\", \"f.40006.2.0\", \"f.40006.3.0\", \"f.40006.4.0\", \"f.40006.5.0\", \n",
    "    \"f.40006.6.0\", \"f.40006.7.0\", \"f.40006.8.0\", \"f.40006.9.0\", \"f.40006.10.0\", \"f.40006.11.0\", \n",
    "    \"f.40006.12.0\", \"f.40006.13.0\", \"f.40006.14.0\", \"f.40006.15.0\", \"f.40006.16.0\"\n",
    "] + [ \n",
    "    \"f.20107.0.0\", \"f.20107.0.1\", \"f.20107.0.2\", \"f.20107.0.3\", \"f.20107.0.4\", \"f.20107.0.5\", \"f.20107.0.6\", \"f.20107.0.7\", \"f.20107.0.8\", \"f.20107.0.9\", \n",
    "    \"f.20107.1.0\", \"f.20107.1.1\", \"f.20107.1.2\", \"f.20107.1.3\", \"f.20107.1.4\", \"f.20107.1.5\", \"f.20107.1.6\", \"f.20107.1.7\", \"f.20107.1.8\", \"f.20107.1.9\", \n",
    "    \"f.20107.2.0\", \"f.20107.2.1\", \"f.20107.2.2\", \"f.20107.2.3\", \"f.20107.2.4\", \"f.20107.2.5\", \"f.20107.2.6\", \"f.20107.2.7\", \"f.20107.2.8\", \"f.20107.2.9\", \n",
    "    \"f.20107.3.0\", \"f.20107.3.1\", \"f.20107.3.2\", \"f.20107.3.3\", \"f.20107.3.4\", \"f.20107.3.5\", \"f.20107.3.6\", \"f.20107.3.7\", \"f.20107.3.8\", \"f.20107.3.9\"\n",
    "] + [\n",
    "    \"f.20110.0.0\", \"f.20110.0.1\", \"f.20110.0.2\", \"f.20110.0.3\", \"f.20110.0.4\", \"f.20110.0.5\", \"f.20110.0.6\", \"f.20110.0.7\", \"f.20110.0.8\", \"f.20110.0.9\", \"f.20110.0.10\", \n",
    "    \"f.20110.1.0\", \"f.20110.1.1\", \"f.20110.1.2\", \"f.20110.1.3\", \"f.20110.1.4\", \"f.20110.1.5\", \"f.20110.1.6\", \"f.20110.1.7\", \"f.20110.1.8\", \"f.20110.1.9\", \"f.20110.1.10\", \n",
    "    \"f.20110.2.0\", \"f.20110.2.1\", \"f.20110.2.2\", \"f.20110.2.3\", \"f.20110.2.4\", \"f.20110.2.5\", \"f.20110.2.6\", \"f.20110.2.7\", \"f.20110.2.8\", \"f.20110.2.9\", \"f.20110.2.10\", \n",
    "    \"f.20110.3.0\", \"f.20110.3.1\", \"f.20110.3.2\", \"f.20110.3.3\", \"f.20110.3.4\", \"f.20110.3.5\", \"f.20110.3.6\", \"f.20110.3.7\", \"f.20110.3.8\", \"f.20110.3.9\", \"f.20110.3.10\"\n",
    "] + [\n",
    "    \"f.20111.0.0\", \"f.20111.0.1\", \"f.20111.0.2\", \"f.20111.0.3\", \"f.20111.0.4\", \"f.20111.0.5\", \"f.20111.0.6\", \"f.20111.0.7\", \"f.20111.0.8\", \"f.20111.0.9\", \"f.20111.0.10\", \"f.20111.0.11\", \n",
    "    \"f.20111.1.0\", \"f.20111.1.1\", \"f.20111.1.2\", \"f.20111.1.3\", \"f.20111.1.4\", \"f.20111.1.5\", \"f.20111.1.6\", \"f.20111.1.7\", \"f.20111.1.8\", \"f.20111.1.9\", \"f.20111.1.10\", \"f.20111.1.11\", \n",
    "    \"f.20111.2.0\", \"f.20111.2.1\", \"f.20111.2.2\", \"f.20111.2.3\", \"f.20111.2.4\", \"f.20111.2.5\", \"f.20111.2.6\", \"f.20111.2.7\", \"f.20111.2.8\", \"f.20111.2.9\", \"f.20111.2.10\", \"f.20111.2.11\", \n",
    "    \"f.20111.3.0\", \"f.20111.3.1\", \"f.20111.3.2\", \"f.20111.3.3\", \"f.20111.3.4\", \"f.20111.3.5\", \"f.20111.3.6\", \"f.20111.3.7\", \"f.20111.3.8\", \"f.20111.3.9\", \"f.20111.3.10\", \"f.20111.3.11\"\n",
    "] + [\n",
    "    \"f.1873.0.0\", \"f.1873.1.0\", \"f.1873.2.0\", \"f.1873.3.0\", \n",
    "    \"f.1883.0.0\", \"f.1883.1.0\", \"f.1883.2.0\", \"f.1883.3.0\"\n",
    "]\n",
    "\n",
    "first_line = True\n",
    "with open(raw_out_path,'w') as outfile:\n",
    "    with open(in_path,'r') as infile:\n",
    "        for line in infile:\n",
    "            line = list(line[:-1].split(' '))\n",
    "            if first_line:\n",
    "                (indices, missing) = find_index(line, columns_of_interest)\n",
    "                print(f'Targets at positions: {\" \".join([str(i) for i in indices])}')\n",
    "                print(f'Missing targets: {\" \".join(missing)}')\n",
    "                first_line = False\n",
    "            output_list = line[:2] + [line[index] for index in indices]\n",
    "            output_line = ' '.join(output_list) + '\\n'\n",
    "            outfile.write(output_line)"
   ]
  },
  {
   "cell_type": "code",
   "execution_count": 5,
   "metadata": {},
   "outputs": [],
   "source": [
    "data = pd.read_csv(raw_out_path,sep=' ',low_memory=False)"
   ]
  },
  {
   "cell_type": "code",
   "execution_count": 6,
   "metadata": {},
   "outputs": [
    {
     "data": {
      "text/html": [
       "<div>\n",
       "<style scoped>\n",
       "    .dataframe tbody tr th:only-of-type {\n",
       "        vertical-align: middle;\n",
       "    }\n",
       "\n",
       "    .dataframe tbody tr th {\n",
       "        vertical-align: top;\n",
       "    }\n",
       "\n",
       "    .dataframe thead th {\n",
       "        text-align: right;\n",
       "    }\n",
       "</style>\n",
       "<table border=\"1\" class=\"dataframe\">\n",
       "  <thead>\n",
       "    <tr style=\"text-align: right;\">\n",
       "      <th></th>\n",
       "      <th>FID</th>\n",
       "      <th>IID</th>\n",
       "      <th>f.1873.0.0</th>\n",
       "      <th>f.1873.1.0</th>\n",
       "      <th>f.1873.2.0</th>\n",
       "      <th>f.1873.3.0</th>\n",
       "      <th>f.1883.0.0</th>\n",
       "      <th>f.1883.1.0</th>\n",
       "      <th>f.1883.2.0</th>\n",
       "      <th>f.1883.3.0</th>\n",
       "      <th>...</th>\n",
       "      <th>f.40006.7.0</th>\n",
       "      <th>f.40006.8.0</th>\n",
       "      <th>f.40006.9.0</th>\n",
       "      <th>f.40006.10.0</th>\n",
       "      <th>f.40006.11.0</th>\n",
       "      <th>f.40006.12.0</th>\n",
       "      <th>f.40006.13.0</th>\n",
       "      <th>f.40006.14.0</th>\n",
       "      <th>f.40006.15.0</th>\n",
       "      <th>f.40006.16.0</th>\n",
       "    </tr>\n",
       "  </thead>\n",
       "  <tbody>\n",
       "    <tr>\n",
       "      <th>0</th>\n",
       "      <td>1000011</td>\n",
       "      <td>1000011</td>\n",
       "      <td>1.0</td>\n",
       "      <td>NaN</td>\n",
       "      <td>NaN</td>\n",
       "      <td>NaN</td>\n",
       "      <td>1.0</td>\n",
       "      <td>NaN</td>\n",
       "      <td>NaN</td>\n",
       "      <td>NaN</td>\n",
       "      <td>...</td>\n",
       "      <td>NaN</td>\n",
       "      <td>NaN</td>\n",
       "      <td>NaN</td>\n",
       "      <td>NaN</td>\n",
       "      <td>NaN</td>\n",
       "      <td>NaN</td>\n",
       "      <td>NaN</td>\n",
       "      <td>NaN</td>\n",
       "      <td>NaN</td>\n",
       "      <td>NaN</td>\n",
       "    </tr>\n",
       "    <tr>\n",
       "      <th>1</th>\n",
       "      <td>1000026</td>\n",
       "      <td>1000026</td>\n",
       "      <td>0.0</td>\n",
       "      <td>NaN</td>\n",
       "      <td>NaN</td>\n",
       "      <td>NaN</td>\n",
       "      <td>0.0</td>\n",
       "      <td>NaN</td>\n",
       "      <td>NaN</td>\n",
       "      <td>NaN</td>\n",
       "      <td>...</td>\n",
       "      <td>NaN</td>\n",
       "      <td>NaN</td>\n",
       "      <td>NaN</td>\n",
       "      <td>NaN</td>\n",
       "      <td>NaN</td>\n",
       "      <td>NaN</td>\n",
       "      <td>NaN</td>\n",
       "      <td>NaN</td>\n",
       "      <td>NaN</td>\n",
       "      <td>NaN</td>\n",
       "    </tr>\n",
       "    <tr>\n",
       "      <th>2</th>\n",
       "      <td>1000032</td>\n",
       "      <td>1000032</td>\n",
       "      <td>0.0</td>\n",
       "      <td>NaN</td>\n",
       "      <td>NaN</td>\n",
       "      <td>NaN</td>\n",
       "      <td>2.0</td>\n",
       "      <td>NaN</td>\n",
       "      <td>NaN</td>\n",
       "      <td>NaN</td>\n",
       "      <td>...</td>\n",
       "      <td>NaN</td>\n",
       "      <td>NaN</td>\n",
       "      <td>NaN</td>\n",
       "      <td>NaN</td>\n",
       "      <td>NaN</td>\n",
       "      <td>NaN</td>\n",
       "      <td>NaN</td>\n",
       "      <td>NaN</td>\n",
       "      <td>NaN</td>\n",
       "      <td>NaN</td>\n",
       "    </tr>\n",
       "    <tr>\n",
       "      <th>3</th>\n",
       "      <td>1000044</td>\n",
       "      <td>1000044</td>\n",
       "      <td>1.0</td>\n",
       "      <td>NaN</td>\n",
       "      <td>NaN</td>\n",
       "      <td>NaN</td>\n",
       "      <td>0.0</td>\n",
       "      <td>NaN</td>\n",
       "      <td>NaN</td>\n",
       "      <td>NaN</td>\n",
       "      <td>...</td>\n",
       "      <td>NaN</td>\n",
       "      <td>NaN</td>\n",
       "      <td>NaN</td>\n",
       "      <td>NaN</td>\n",
       "      <td>NaN</td>\n",
       "      <td>NaN</td>\n",
       "      <td>NaN</td>\n",
       "      <td>NaN</td>\n",
       "      <td>NaN</td>\n",
       "      <td>NaN</td>\n",
       "    </tr>\n",
       "    <tr>\n",
       "      <th>4</th>\n",
       "      <td>1000058</td>\n",
       "      <td>1000058</td>\n",
       "      <td>1.0</td>\n",
       "      <td>NaN</td>\n",
       "      <td>NaN</td>\n",
       "      <td>NaN</td>\n",
       "      <td>1.0</td>\n",
       "      <td>NaN</td>\n",
       "      <td>NaN</td>\n",
       "      <td>NaN</td>\n",
       "      <td>...</td>\n",
       "      <td>NaN</td>\n",
       "      <td>NaN</td>\n",
       "      <td>NaN</td>\n",
       "      <td>NaN</td>\n",
       "      <td>NaN</td>\n",
       "      <td>NaN</td>\n",
       "      <td>NaN</td>\n",
       "      <td>NaN</td>\n",
       "      <td>NaN</td>\n",
       "      <td>NaN</td>\n",
       "    </tr>\n",
       "  </tbody>\n",
       "</table>\n",
       "<p>5 rows × 159 columns</p>\n",
       "</div>"
      ],
      "text/plain": [
       "       FID      IID  f.1873.0.0  f.1873.1.0  f.1873.2.0  f.1873.3.0  \\\n",
       "0  1000011  1000011         1.0         NaN         NaN         NaN   \n",
       "1  1000026  1000026         0.0         NaN         NaN         NaN   \n",
       "2  1000032  1000032         0.0         NaN         NaN         NaN   \n",
       "3  1000044  1000044         1.0         NaN         NaN         NaN   \n",
       "4  1000058  1000058         1.0         NaN         NaN         NaN   \n",
       "\n",
       "   f.1883.0.0  f.1883.1.0  f.1883.2.0  f.1883.3.0  ...  f.40006.7.0  \\\n",
       "0         1.0         NaN         NaN         NaN  ...          NaN   \n",
       "1         0.0         NaN         NaN         NaN  ...          NaN   \n",
       "2         2.0         NaN         NaN         NaN  ...          NaN   \n",
       "3         0.0         NaN         NaN         NaN  ...          NaN   \n",
       "4         1.0         NaN         NaN         NaN  ...          NaN   \n",
       "\n",
       "   f.40006.8.0  f.40006.9.0  f.40006.10.0  f.40006.11.0  f.40006.12.0  \\\n",
       "0          NaN          NaN           NaN           NaN           NaN   \n",
       "1          NaN          NaN           NaN           NaN           NaN   \n",
       "2          NaN          NaN           NaN           NaN           NaN   \n",
       "3          NaN          NaN           NaN           NaN           NaN   \n",
       "4          NaN          NaN           NaN           NaN           NaN   \n",
       "\n",
       "   f.40006.13.0  f.40006.14.0  f.40006.15.0  f.40006.16.0  \n",
       "0           NaN           NaN           NaN           NaN  \n",
       "1           NaN           NaN           NaN           NaN  \n",
       "2           NaN           NaN           NaN           NaN  \n",
       "3           NaN           NaN           NaN           NaN  \n",
       "4           NaN           NaN           NaN           NaN  \n",
       "\n",
       "[5 rows x 159 columns]"
      ]
     },
     "execution_count": 6,
     "metadata": {},
     "output_type": "execute_result"
    }
   ],
   "source": [
    "data.head()"
   ]
  },
  {
   "cell_type": "code",
   "execution_count": 17,
   "metadata": {},
   "outputs": [
    {
     "name": "stdout",
     "output_type": "stream",
     "text": [
      "f.1873.0.0\n",
      "f.1873.1.0\n",
      "f.1873.2.0\n",
      "f.1873.3.0\n",
      "f.1883.0.0\n",
      "f.1883.1.0\n",
      "f.1883.2.0\n",
      "f.1883.3.0\n",
      "9725\n",
      "116\n",
      "84723\n"
     ]
    }
   ],
   "source": [
    "data['Ca'] = False\n",
    "data['PCa'] = False\n",
    "for (column_name,column_data) in data.iteritems():\n",
    "    if column_name == 'FID' or column_name == 'IID' or column_name == 'PCa' or column_name == 'Ca':\n",
    "        continue\n",
    "    elif column_name[0:7] == \"f.40006\":\n",
    "        data['PCa'] |= (column_data == 'C61')\n",
    "        data['Ca'] |= column_data.notna()\n",
    "    elif column_name[0:5] == \"f.201\":\n",
    "        continue\n",
    "    else:\n",
    "        print(column_name)\n",
    "        continue\n",
    "print(sum(list(data['PCa'])))\n",
    "\n",
    "for (column_name,column_data) in data.iteritems():\n",
    "    if column_name == 'FID' or column_name == 'IID' or column_name == 'PCa' or column_name == 'Ca':\n",
    "        continue\n",
    "    else:\n",
    "        data['PCa'] &= ((column_data == 'C61') | column_data.isna())\n",
    "\n",
    "print(sum(list(data['PCa'])))\n",
    "print(sum(list(data['Ca'])))"
   ]
  },
  {
   "cell_type": "code",
   "execution_count": 8,
   "metadata": {},
   "outputs": [
    {
     "data": {
      "text/plain": [
       "116"
      ]
     },
     "execution_count": 8,
     "metadata": {},
     "output_type": "execute_result"
    }
   ],
   "source": [
    "subdata = data.loc[:,['FID','IID','PCa']]\n",
    "subdata.loc[:,'PCa'] = subdata.loc[:,'PCa'].astype('int8')\n",
    "sum(subdata['PCa'])"
   ]
  },
  {
   "cell_type": "code",
   "execution_count": 9,
   "metadata": {},
   "outputs": [
    {
     "data": {
      "text/plain": [
       "502490"
      ]
     },
     "execution_count": 9,
     "metadata": {},
     "output_type": "execute_result"
    }
   ],
   "source": [
    "len(subdata)"
   ]
  },
  {
   "cell_type": "code",
   "execution_count": 10,
   "metadata": {},
   "outputs": [],
   "source": [
    "subdata.loc[subdata[\"PCa\"] == True].to_csv(\"../../torkamani_PCa_IDs\")"
   ]
  },
  {
   "cell_type": "code",
   "execution_count": 11,
   "metadata": {},
   "outputs": [],
   "source": [
    "subdata.to_csv(out_path,sep = ' ',index = False)"
   ]
  },
  {
   "cell_type": "code",
   "execution_count": 12,
   "metadata": {},
   "outputs": [],
   "source": [
    "Ca_subset = data.loc[data['Ca']]"
   ]
  },
  {
   "cell_type": "code",
   "execution_count": 13,
   "metadata": {},
   "outputs": [],
   "source": [
    "nonPCa_Ca_subset = Ca_subset.loc[(not item for item in Ca_subset['PCa'])]"
   ]
  },
  {
   "cell_type": "code",
   "execution_count": 14,
   "metadata": {},
   "outputs": [
    {
     "data": {
      "text/plain": [
       "84607"
      ]
     },
     "execution_count": 14,
     "metadata": {},
     "output_type": "execute_result"
    }
   ],
   "source": [
    "len(nonPCa_Ca_subset)"
   ]
  },
  {
   "cell_type": "code",
   "execution_count": 15,
   "metadata": {},
   "outputs": [],
   "source": [
    "nonPCa_Ca_subset[['FID','IID']].to_csv('exclude_nonPCa_Ca.txt',header=False,index=False,sep=' ')"
   ]
  }
 ],
 "metadata": {
  "kernelspec": {
   "display_name": "Python 3",
   "language": "python",
   "name": "python3"
  },
  "language_info": {
   "codemirror_mode": {
    "name": "ipython",
    "version": 3
   },
   "file_extension": ".py",
   "mimetype": "text/x-python",
   "name": "python",
   "nbconvert_exporter": "python",
   "pygments_lexer": "ipython3",
   "version": "3.8.3"
  }
 },
 "nbformat": 4,
 "nbformat_minor": 4
}
