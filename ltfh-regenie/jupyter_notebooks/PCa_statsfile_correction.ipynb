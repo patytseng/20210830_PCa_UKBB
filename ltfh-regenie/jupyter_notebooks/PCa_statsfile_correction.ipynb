{
 "cells": [
  {
   "cell_type": "code",
   "execution_count": 1,
   "metadata": {},
   "outputs": [],
   "source": [
    "library(data.table)\n",
    "source('/gpfs/home/ptseng/LTFH/transformed_ltfh_effectsizes.R')"
   ]
  },
  {
   "cell_type": "code",
   "execution_count": 2,
   "metadata": {},
   "outputs": [],
   "source": [
    "data = fread('../PCa_ukb_step2_BT_ltfh.regenie', sep=' ')"
   ]
  },
  {
   "cell_type": "code",
   "execution_count": 3,
   "metadata": {},
   "outputs": [
    {
     "data": {
      "text/html": [
       "<table class=\"dataframe\">\n",
       "<caption>A data.table: 6 × 13</caption>\n",
       "<thead>\n",
       "\t<tr><th scope=col>CHROM</th><th scope=col>GENPOS</th><th scope=col>ID</th><th scope=col>ALLELE0</th><th scope=col>ALLELE1</th><th scope=col>A1FREQ</th><th scope=col>INFO</th><th scope=col>N</th><th scope=col>TEST</th><th scope=col>BETA</th><th scope=col>SE</th><th scope=col>CHISQ</th><th scope=col>LOG10P</th></tr>\n",
       "\t<tr><th scope=col>&lt;int&gt;</th><th scope=col>&lt;int&gt;</th><th scope=col>&lt;chr&gt;</th><th scope=col>&lt;chr&gt;</th><th scope=col>&lt;chr&gt;</th><th scope=col>&lt;dbl&gt;</th><th scope=col>&lt;dbl&gt;</th><th scope=col>&lt;int&gt;</th><th scope=col>&lt;chr&gt;</th><th scope=col>&lt;dbl&gt;</th><th scope=col>&lt;dbl&gt;</th><th scope=col>&lt;dbl&gt;</th><th scope=col>&lt;dbl&gt;</th></tr>\n",
       "</thead>\n",
       "<tbody>\n",
       "\t<tr><td>1</td><td>10177</td><td>rs367896724                     </td><td>A                     </td><td>AC</td><td>0.398733000</td><td>0.466355</td><td>424282</td><td>ADD</td><td> 0.00247576</td><td>0.00101763</td><td>5.918880</td><td>1.824500</td></tr>\n",
       "\t<tr><td>1</td><td>10235</td><td>rs540431307                     </td><td>T                     </td><td>TA</td><td>0.000349051</td><td>0.197730</td><td>424282</td><td>ADD</td><td>-0.01751630</td><td>0.04093890</td><td>0.183068</td><td>0.174736</td></tr>\n",
       "\t<tr><td>1</td><td>10352</td><td>rs201106462                     </td><td>T                     </td><td>TA</td><td>0.393016000</td><td>0.444473</td><td>424282</td><td>ADD</td><td> 0.00100044</td><td>0.00104807</td><td>0.911181</td><td>0.468775</td></tr>\n",
       "\t<tr><td>1</td><td>10511</td><td>rs534229142                     </td><td>G                     </td><td>A </td><td>0.001265320</td><td>0.440127</td><td>424282</td><td>ADD</td><td> 0.03021570</td><td>0.01446220</td><td>4.365120</td><td>1.435550</td></tr>\n",
       "\t<tr><td>1</td><td>10539</td><td>rs537182016                     </td><td>C                     </td><td>A </td><td>0.000506872</td><td>0.189173</td><td>424282</td><td>ADD</td><td> 0.04993180</td><td>0.03482260</td><td>2.056050</td><td>0.819292</td></tr>\n",
       "\t<tr><td>1</td><td>10616</td><td>1:10616_CCGCCGTTGCAAAGGCGCGCCG_C</td><td>CCGCCGTTGCAAAGGCGCGCCG</td><td>C </td><td>0.994171000</td><td>0.459661</td><td>424282</td><td>ADD</td><td> 0.00824154</td><td>0.00660471</td><td>1.557070</td><td>0.673472</td></tr>\n",
       "</tbody>\n",
       "</table>\n"
      ],
      "text/latex": [
       "A data.table: 6 × 13\n",
       "\\begin{tabular}{lllllllllllll}\n",
       " CHROM & GENPOS & ID & ALLELE0 & ALLELE1 & A1FREQ & INFO & N & TEST & BETA & SE & CHISQ & LOG10P\\\\\n",
       " <int> & <int> & <chr> & <chr> & <chr> & <dbl> & <dbl> & <int> & <chr> & <dbl> & <dbl> & <dbl> & <dbl>\\\\\n",
       "\\hline\n",
       "\t 1 & 10177 & rs367896724                      & A                      & AC & 0.398733000 & 0.466355 & 424282 & ADD &  0.00247576 & 0.00101763 & 5.918880 & 1.824500\\\\\n",
       "\t 1 & 10235 & rs540431307                      & T                      & TA & 0.000349051 & 0.197730 & 424282 & ADD & -0.01751630 & 0.04093890 & 0.183068 & 0.174736\\\\\n",
       "\t 1 & 10352 & rs201106462                      & T                      & TA & 0.393016000 & 0.444473 & 424282 & ADD &  0.00100044 & 0.00104807 & 0.911181 & 0.468775\\\\\n",
       "\t 1 & 10511 & rs534229142                      & G                      & A  & 0.001265320 & 0.440127 & 424282 & ADD &  0.03021570 & 0.01446220 & 4.365120 & 1.435550\\\\\n",
       "\t 1 & 10539 & rs537182016                      & C                      & A  & 0.000506872 & 0.189173 & 424282 & ADD &  0.04993180 & 0.03482260 & 2.056050 & 0.819292\\\\\n",
       "\t 1 & 10616 & 1:10616\\_CCGCCGTTGCAAAGGCGCGCCG\\_C & CCGCCGTTGCAAAGGCGCGCCG & C  & 0.994171000 & 0.459661 & 424282 & ADD &  0.00824154 & 0.00660471 & 1.557070 & 0.673472\\\\\n",
       "\\end{tabular}\n"
      ],
      "text/markdown": [
       "\n",
       "A data.table: 6 × 13\n",
       "\n",
       "| CHROM &lt;int&gt; | GENPOS &lt;int&gt; | ID &lt;chr&gt; | ALLELE0 &lt;chr&gt; | ALLELE1 &lt;chr&gt; | A1FREQ &lt;dbl&gt; | INFO &lt;dbl&gt; | N &lt;int&gt; | TEST &lt;chr&gt; | BETA &lt;dbl&gt; | SE &lt;dbl&gt; | CHISQ &lt;dbl&gt; | LOG10P &lt;dbl&gt; |\n",
       "|---|---|---|---|---|---|---|---|---|---|---|---|---|\n",
       "| 1 | 10177 | rs367896724                      | A                      | AC | 0.398733000 | 0.466355 | 424282 | ADD |  0.00247576 | 0.00101763 | 5.918880 | 1.824500 |\n",
       "| 1 | 10235 | rs540431307                      | T                      | TA | 0.000349051 | 0.197730 | 424282 | ADD | -0.01751630 | 0.04093890 | 0.183068 | 0.174736 |\n",
       "| 1 | 10352 | rs201106462                      | T                      | TA | 0.393016000 | 0.444473 | 424282 | ADD |  0.00100044 | 0.00104807 | 0.911181 | 0.468775 |\n",
       "| 1 | 10511 | rs534229142                      | G                      | A  | 0.001265320 | 0.440127 | 424282 | ADD |  0.03021570 | 0.01446220 | 4.365120 | 1.435550 |\n",
       "| 1 | 10539 | rs537182016                      | C                      | A  | 0.000506872 | 0.189173 | 424282 | ADD |  0.04993180 | 0.03482260 | 2.056050 | 0.819292 |\n",
       "| 1 | 10616 | 1:10616_CCGCCGTTGCAAAGGCGCGCCG_C | CCGCCGTTGCAAAGGCGCGCCG | C  | 0.994171000 | 0.459661 | 424282 | ADD |  0.00824154 | 0.00660471 | 1.557070 | 0.673472 |\n",
       "\n"
      ],
      "text/plain": [
       "  CHROM GENPOS ID                               ALLELE0                ALLELE1\n",
       "1 1     10177  rs367896724                      A                      AC     \n",
       "2 1     10235  rs540431307                      T                      TA     \n",
       "3 1     10352  rs201106462                      T                      TA     \n",
       "4 1     10511  rs534229142                      G                      A      \n",
       "5 1     10539  rs537182016                      C                      A      \n",
       "6 1     10616  1:10616_CCGCCGTTGCAAAGGCGCGCCG_C CCGCCGTTGCAAAGGCGCGCCG C      \n",
       "  A1FREQ      INFO     N      TEST BETA        SE         CHISQ    LOG10P  \n",
       "1 0.398733000 0.466355 424282 ADD   0.00247576 0.00101763 5.918880 1.824500\n",
       "2 0.000349051 0.197730 424282 ADD  -0.01751630 0.04093890 0.183068 0.174736\n",
       "3 0.393016000 0.444473 424282 ADD   0.00100044 0.00104807 0.911181 0.468775\n",
       "4 0.001265320 0.440127 424282 ADD   0.03021570 0.01446220 4.365120 1.435550\n",
       "5 0.000506872 0.189173 424282 ADD   0.04993180 0.03482260 2.056050 0.819292\n",
       "6 0.994171000 0.459661 424282 ADD   0.00824154 0.00660471 1.557070 0.673472"
      ]
     },
     "metadata": {},
     "output_type": "display_data"
    }
   ],
   "source": [
    "head(data)"
   ]
  },
  {
   "cell_type": "code",
   "execution_count": 4,
   "metadata": {},
   "outputs": [],
   "source": [
    "data$BETA = transformed_effectsizes(data$BETA,data$SE,1,452321,0.00451352265716731,data$A1FREQ)"
   ]
  },
  {
   "cell_type": "code",
   "execution_count": 5,
   "metadata": {},
   "outputs": [],
   "source": [
    "fwrite(data,'../PCa_ukb_step2_BT_ltfh.regenie.corrected',sep=' ')"
   ]
  }
 ],
 "metadata": {
  "kernelspec": {
   "display_name": "R",
   "language": "R",
   "name": "ir"
  },
  "language_info": {
   "codemirror_mode": "r",
   "file_extension": ".r",
   "mimetype": "text/x-r-source",
   "name": "R",
   "pygments_lexer": "r",
   "version": "4.0.0"
  }
 },
 "nbformat": 4,
 "nbformat_minor": 4
}
