{
 "cells": [
  {
   "cell_type": "code",
   "execution_count": 1,
   "metadata": {},
   "outputs": [],
   "source": [
    "from matplotlib import pyplot as plt\n",
    "import pandas as pd\n",
    "import numpy as np"
   ]
  },
  {
   "cell_type": "code",
   "execution_count": 2,
   "metadata": {},
   "outputs": [],
   "source": [
    "in_path = '/mnt/stsi/stsi1/ptseng/UKBB_Resources/phenos/torkamani_request.txt'\n",
    "raw_out_path = '/gpfs/home/ptseng/Torkamani_Projects/20210830_PCa_UKBB/regenie/regenie_input/PCa_pheno_raw.txt'\n",
    "out_path = '/gpfs/home/ptseng/Torkamani_Projects/20210830_PCa_UKBB/regenie/regenie_input/PCa_pheno.txt'"
   ]
  },
  {
   "cell_type": "raw",
   "metadata": {},
   "source": [
    "def find_index(input_list,targets):\n",
    "    index = 0\n",
    "    index_list = []\n",
    "    for element in input_list:\n",
    "        for target in targets:\n",
    "            if element == target:\n",
    "                targets.remove(target)\n",
    "                index_list.append(index)\n",
    "        index += 1\n",
    "    return (index_list,targets)"
   ]
  },
  {
   "cell_type": "raw",
   "metadata": {},
   "source": [
    "columns_of_interest = [\n",
    "    \"f.40006.0.0\", \"f.40006.1.0\", \"f.40006.2.0\", \"f.40006.3.0\", \"f.40006.4.0\", \"f.40006.5.0\", \n",
    "    \"f.40006.6.0\", \"f.40006.7.0\", \"f.40006.8.0\", \"f.40006.9.0\", \"f.40006.10.0\", \"f.40006.11.0\", \n",
    "    \"f.40006.12.0\", \"f.40006.13.0\", \"f.40006.14.0\", \"f.40006.15.0\", \"f.40006.16.0\"\n",
    "]\n",
    "\n",
    "first_line = True\n",
    "with open(raw_out_path,'w') as outfile:\n",
    "    with open(in_path,'r') as infile:\n",
    "        for line in infile:\n",
    "            line = list(line[:-1].split(' '))\n",
    "            if first_line:\n",
    "                (indices, missing) = find_index(line, columns_of_interest)\n",
    "                print(f'Targets at positions: {\" \".join([str(i) for i in indices])}')\n",
    "                print(f'Missing targets: {\" \".join(missing)}')\n",
    "                first_line = False\n",
    "            output_list = line[:2] + [line[index] for index in indices]\n",
    "            output_line = ' '.join(output_list) + '\\n'\n",
    "            outfile.write(output_line)"
   ]
  },
  {
   "cell_type": "raw",
   "metadata": {},
   "source": [
    "{k: v for k, v in sorted(output_dict.items(), reverse=True, key=lambda item: item[1])}"
   ]
  },
  {
   "cell_type": "code",
   "execution_count": 3,
   "metadata": {},
   "outputs": [],
   "source": [
    "data = pd.read_csv(raw_out_path,sep=' ',low_memory=False)\n",
    "\n",
    "data.head()\n",
    "\n",
    "data['Ca'] = False\n",
    "data['PCa'] = False\n",
    "for (column_name,column_data) in data.iteritems():\n",
    "    if column_name == 'FID' or column_name == 'IID' or column_name == 'PCa' or column_name == 'Ca':\n",
    "        continue\n",
    "    else:\n",
    "        data['PCa'] |= (column_data == 'C61')\n",
    "        data['Ca'] |= column_data.notna()\n",
    "        \n",
    "for (column_name,column_data) in data.iteritems():\n",
    "    if column_name == 'FID' or column_name == 'IID' or column_name == 'PCa' or column_name == 'Ca':\n",
    "        continue\n",
    "    else:\n",
    "        data['PCa'] &= ((column_data == 'C61') | column_data.isna())\n",
    "\n",
    "print(sum(list(data['PCa'])))\n",
    "print(sum(list(data['Ca'])))\n",
    "\n",
    "subdata = data.loc[:,['FID','IID','PCa']]\n",
    "subdata.loc[:,'PCa'] = subdata.loc[:,'PCa'].astype('int8')\n",
    "sum(subdata['PCa'])\n",
    "\n",
    "len(subdata)\n",
    "\n",
    "subdata.loc[subdata[\"PCa\"] == True].to_csv(\"../../torkamani_PCa_IDs\")\n",
    "\n",
    "subdata.to_csv(out_path,sep = ' ',index = False)\n",
    "\n",
    "Ca_subset = data.loc[data['Ca']]\n",
    "\n",
    "nonPCa_Ca_subset = Ca_subset.loc[(not item for item in Ca_subset['PCa'])]\n",
    "\n",
    "len(nonPCa_Ca_subset)\n",
    "\n",
    "nonPCa_Ca_subset[['FID','IID']].to_csv('exclude_nonPCa_Ca.txt',header=False,index=False,sep=' ')"
   ]
  },
  {
   "cell_type": "code",
   "execution_count": null,
   "metadata": {},
   "outputs": [],
   "source": []
  }
 ],
 "metadata": {
  "kernelspec": {
   "display_name": "Python 3",
   "language": "python",
   "name": "python3"
  },
  "language_info": {
   "codemirror_mode": {
    "name": "ipython",
    "version": 3
   },
   "file_extension": ".py",
   "mimetype": "text/x-python",
   "name": "python",
   "nbconvert_exporter": "python",
   "pygments_lexer": "ipython3",
   "version": "3.8.3"
  }
 },
 "nbformat": 4,
 "nbformat_minor": 4
}
