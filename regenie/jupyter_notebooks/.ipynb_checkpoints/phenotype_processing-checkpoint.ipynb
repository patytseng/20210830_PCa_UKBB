{
 "cells": [
  {
   "cell_type": "code",
   "execution_count": 1,
   "metadata": {},
   "outputs": [],
   "source": [
    "from matplotlib import pyplot as plt\n",
    "import pandas as pd\n",
    "import numpy as np"
   ]
  },
  {
   "cell_type": "code",
   "execution_count": 2,
   "metadata": {},
   "outputs": [],
   "source": [
    "in_path = '/mnt/stsi/stsi1/ptseng/UKBB_Resources/phenos/torkamani_request.txt'\n",
    "raw_out_path = '/gpfs/home/ptseng/Torkamani_Projects/20210830_PCa_UKBB/regenie_analysis/intermediate_files/PCa_pheno_raw.txt'\n",
    "out_path = '/gpfs/home/ptseng/Torkamani_Projects/20210830_PCa_UKBB/regenie_analysis/PCa_pheno.txt'"
   ]
  },
  {
   "cell_type": "code",
   "execution_count": 1,
   "metadata": {},
   "outputs": [],
   "source": [
    "def find_index(input_list,targets):\n",
    "    index = 0\n",
    "    index_list = []\n",
    "    for element in input_list:\n",
    "        for target in targets:\n",
    "            if element == target:\n",
    "                targets.remove(target)\n",
    "                index_list.append(index)\n",
    "        index += 1\n",
    "    return (index_list,targets)"
   ]
  },
  {
   "cell_type": "code",
   "execution_count": 1,
   "metadata": {},
   "outputs": [],
   "source": [
    "line_count = 1\n",
    "index_count = 0\n",
    "first_line = True\n",
    "\n",
    "output_dict = {}\n",
    "with open(in_path,'r') as file:\n",
    "    for line in file:\n",
    "        line = list(line[:-1].split(' '))\n",
    "        if first_line:\n",
    "            index = find_index(line,'f.40006.0.0')\n",
    "            print(index)\n",
    "            if index == None:\n",
    "                print('Requested Index Not Found')\n",
    "                break\n",
    "            else:\n",
    "                first_line = False\n",
    "                print(line[index])\n",
    "                continue\n",
    "        if line[index] != 'NA':\n",
    "            item = line[index][1:-1]\n",
    "            if item not in output_dict:\n",
    "                output_dict[item] = 1\n",
    "            else:\n",
    "                output_dict[item] += 1\n",
    "                \n",
    "        if line_count % 10000 == 0:\n",
    "            print(line_count)\n",
    "            \n",
    "        line_count += 1"
   ]
  },
  {
   "cell_type": "code",
   "execution_count": null,
   "metadata": {},
   "outputs": [],
   "source": [
    "{k: v for k, v in sorted(output_dict.items(), reverse=True, key=lambda item: item[1])}"
   ]
  },
  {
   "cell_type": "code",
   "execution_count": null,
   "metadata": {},
   "outputs": [],
   "source": [
    "with open(out_path,'w') as outfile:\n",
    "    with open(in_path,'r') as infile:\n",
    "        for line in infile:\n",
    "            line = list(line[:-1].split(' '))\n",
    "            output_list = line[:2] + line[6652:6669]\n",
    "            output_line = ' '.join(output_list)+'\\n'\n",
    "            outfile.write(output_line)"
   ]
  },
  {
   "cell_type": "code",
   "execution_count": null,
   "metadata": {},
   "outputs": [],
   "source": [
    "data = pd.read_csv(out_path,sep=' ',low_memory=False)"
   ]
  },
  {
   "cell_type": "code",
   "execution_count": null,
   "metadata": {},
   "outputs": [],
   "source": [
    "data.head()"
   ]
  },
  {
   "cell_type": "code",
   "execution_count": null,
   "metadata": {},
   "outputs": [],
   "source": [
    "data['Ca'] = False\n",
    "data['PCa'] = False\n",
    "for (column_name,column_data) in data.iteritems():\n",
    "    if column_name == 'FID' or column_name == 'IID' or column_name == 'PCa' or column_name == 'Ca':\n",
    "        continue\n",
    "    else:\n",
    "        data['PCa'] |= (column_data == 'C61')\n",
    "        data['Ca'] |= column_data.notna()\n",
    "        \n",
    "for (column_name,column_data) in data.iteritems():\n",
    "    if column_name == 'FID' or column_name == 'IID' or column_name == 'PCa' or column_name == 'Ca':\n",
    "        continue\n",
    "    else:\n",
    "        data['PCa'] &= ((column_data == 'C61') | column_data.isna())\n",
    "\n",
    "print(sum(list(data['PCa'])))\n",
    "print(sum(list(data['Ca'])))"
   ]
  },
  {
   "cell_type": "code",
   "execution_count": null,
   "metadata": {},
   "outputs": [],
   "source": [
    "subdata = data.loc[:,['FID','IID','PCa']]\n",
    "subdata.loc[:,'PCa'] = subdata.loc[:,'PCa'].astype('int8')\n",
    "sum(subdata['PCa'])"
   ]
  },
  {
   "cell_type": "code",
   "execution_count": null,
   "metadata": {},
   "outputs": [],
   "source": [
    "subdata.head()"
   ]
  },
  {
   "cell_type": "code",
   "execution_count": null,
   "metadata": {},
   "outputs": [],
   "source": [
    "subdata.to_csv(out_path2,sep = ' ',index = False)"
   ]
  },
  {
   "cell_type": "code",
   "execution_count": null,
   "metadata": {},
   "outputs": [],
   "source": [
    "Ca_subset = data.loc[data['Ca']]"
   ]
  },
  {
   "cell_type": "code",
   "execution_count": null,
   "metadata": {},
   "outputs": [],
   "source": [
    "nonPCa_Ca_subset = Ca_subset.loc[(not item for item in Ca_subset['PCa'])]"
   ]
  },
  {
   "cell_type": "code",
   "execution_count": null,
   "metadata": {},
   "outputs": [],
   "source": [
    "len(nonPCa_Ca_subset)"
   ]
  },
  {
   "cell_type": "code",
   "execution_count": null,
   "metadata": {},
   "outputs": [],
   "source": [
    "nonPCa_Ca_subset[['FID','IID']].to_csv('exclude_nonPCa_Ca.txt',header=False,index=False,sep=' ')"
   ]
  },
  {
   "cell_type": "code",
   "execution_count": null,
   "metadata": {},
   "outputs": [],
   "source": []
  }
 ],
 "metadata": {
  "kernelspec": {
   "display_name": "Python 3",
   "language": "python",
   "name": "python3"
  },
  "language_info": {
   "codemirror_mode": {
    "name": "ipython",
    "version": 3
   },
   "file_extension": ".py",
   "mimetype": "text/x-python",
   "name": "python",
   "nbconvert_exporter": "python",
   "pygments_lexer": "ipython3",
   "version": "3.8.3"
  }
 },
 "nbformat": 4,
 "nbformat_minor": 4
}
