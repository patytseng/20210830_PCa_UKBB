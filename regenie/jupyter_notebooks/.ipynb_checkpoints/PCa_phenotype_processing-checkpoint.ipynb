{
 "cells": [
  {
   "cell_type": "code",
   "execution_count": 1,
   "metadata": {},
   "outputs": [],
   "source": [
    "from matplotlib import pyplot as plt\n",
    "import pandas as pd\n",
    "import numpy as np"
   ]
  },
  {
   "cell_type": "code",
   "execution_count": 2,
   "metadata": {},
   "outputs": [],
   "source": [
    "in_path = '/mnt/stsi/stsi1/ptseng/UKBB_Resources/phenos/torkamani_request.txt'\n",
    "raw_out_path = '/gpfs/home/ptseng/Torkamani_Projects/20210830_PCa_UKBB/regenie/regenie_input/PCa_pheno_raw.txt'\n",
    "out_path = '/gpfs/home/ptseng/Torkamani_Projects/20210830_PCa_UKBB/regenie/regenie_input/PCa_pheno.txt'"
   ]
  },
  {
   "cell_type": "raw",
   "metadata": {},
   "source": [
    "def find_index(input_list,targets):\n",
    "    index = 0\n",
    "    index_list = []\n",
    "    for element in input_list:\n",
    "        for target in targets:\n",
    "            if element == target:\n",
    "                targets.remove(target)\n",
    "                index_list.append(index)\n",
    "        index += 1\n",
    "    return (index_list,targets)"
   ]
  },
  {
   "cell_type": "raw",
   "metadata": {},
   "source": [
    "columns_of_interest = [\n",
    "    \"f.40006.0.0\", \"f.40006.1.0\", \"f.40006.2.0\", \"f.40006.3.0\", \"f.40006.4.0\", \"f.40006.5.0\", \n",
    "    \"f.40006.6.0\", \"f.40006.7.0\", \"f.40006.8.0\", \"f.40006.9.0\", \"f.40006.10.0\", \"f.40006.11.0\", \n",
    "    \"f.40006.12.0\", \"f.40006.13.0\", \"f.40006.14.0\", \"f.40006.15.0\", \"f.40006.16.0\"\n",
    "]\n",
    "\n",
    "first_line = True\n",
    "with open(raw_out_path,'w') as outfile:\n",
    "    with open(in_path,'r') as infile:\n",
    "        for line in infile:\n",
    "            line = list(line[:-1].split(' '))\n",
    "            if first_line:\n",
    "                (indices, missing) = find_index(line, columns_of_interest)\n",
    "                print(f'Targets at positions: {\" \".join([str(i) for i in indices])}')\n",
    "                print(f'Missing targets: {\" \".join(missing)}')\n",
    "                first_line = False\n",
    "            output_list = line[:2] + [line[index] for index in indices]\n",
    "            output_line = ' '.join(output_list) + '\\n'\n",
    "            outfile.write(output_line)"
   ]
  },
  {
   "cell_type": "raw",
   "metadata": {},
   "source": [
    "{k: v for k, v in sorted(output_dict.items(), reverse=True, key=lambda item: item[1])}"
   ]
  },
  {
   "cell_type": "code",
   "execution_count": 3,
   "metadata": {},
   "outputs": [],
   "source": [
    "data = pd.read_csv(raw_out_path,sep=' ',low_memory=False)"
   ]
  },
  {
   "cell_type": "code",
   "execution_count": 4,
   "metadata": {},
   "outputs": [
    {
     "data": {
      "text/html": [
       "<div>\n",
       "<style scoped>\n",
       "    .dataframe tbody tr th:only-of-type {\n",
       "        vertical-align: middle;\n",
       "    }\n",
       "\n",
       "    .dataframe tbody tr th {\n",
       "        vertical-align: top;\n",
       "    }\n",
       "\n",
       "    .dataframe thead th {\n",
       "        text-align: right;\n",
       "    }\n",
       "</style>\n",
       "<table border=\"1\" class=\"dataframe\">\n",
       "  <thead>\n",
       "    <tr style=\"text-align: right;\">\n",
       "      <th></th>\n",
       "      <th>FID</th>\n",
       "      <th>IID</th>\n",
       "      <th>f.40006.0.0</th>\n",
       "      <th>f.40006.1.0</th>\n",
       "      <th>f.40006.2.0</th>\n",
       "      <th>f.40006.3.0</th>\n",
       "      <th>f.40006.4.0</th>\n",
       "      <th>f.40006.5.0</th>\n",
       "      <th>f.40006.6.0</th>\n",
       "      <th>f.40006.7.0</th>\n",
       "      <th>f.40006.8.0</th>\n",
       "      <th>f.40006.9.0</th>\n",
       "      <th>f.40006.10.0</th>\n",
       "      <th>f.40006.11.0</th>\n",
       "      <th>f.40006.12.0</th>\n",
       "      <th>f.40006.13.0</th>\n",
       "      <th>f.40006.14.0</th>\n",
       "      <th>f.40006.15.0</th>\n",
       "      <th>f.40006.16.0</th>\n",
       "    </tr>\n",
       "  </thead>\n",
       "  <tbody>\n",
       "    <tr>\n",
       "      <th>0</th>\n",
       "      <td>1000013</td>\n",
       "      <td>1000013</td>\n",
       "      <td>NaN</td>\n",
       "      <td>NaN</td>\n",
       "      <td>NaN</td>\n",
       "      <td>NaN</td>\n",
       "      <td>NaN</td>\n",
       "      <td>NaN</td>\n",
       "      <td>NaN</td>\n",
       "      <td>NaN</td>\n",
       "      <td>NaN</td>\n",
       "      <td>NaN</td>\n",
       "      <td>NaN</td>\n",
       "      <td>NaN</td>\n",
       "      <td>NaN</td>\n",
       "      <td>NaN</td>\n",
       "      <td>NaN</td>\n",
       "      <td>NaN</td>\n",
       "      <td>NaN</td>\n",
       "    </tr>\n",
       "    <tr>\n",
       "      <th>1</th>\n",
       "      <td>1000024</td>\n",
       "      <td>1000024</td>\n",
       "      <td>NaN</td>\n",
       "      <td>NaN</td>\n",
       "      <td>NaN</td>\n",
       "      <td>NaN</td>\n",
       "      <td>NaN</td>\n",
       "      <td>NaN</td>\n",
       "      <td>NaN</td>\n",
       "      <td>NaN</td>\n",
       "      <td>NaN</td>\n",
       "      <td>NaN</td>\n",
       "      <td>NaN</td>\n",
       "      <td>NaN</td>\n",
       "      <td>NaN</td>\n",
       "      <td>NaN</td>\n",
       "      <td>NaN</td>\n",
       "      <td>NaN</td>\n",
       "      <td>NaN</td>\n",
       "    </tr>\n",
       "    <tr>\n",
       "      <th>2</th>\n",
       "      <td>1000036</td>\n",
       "      <td>1000036</td>\n",
       "      <td>NaN</td>\n",
       "      <td>NaN</td>\n",
       "      <td>NaN</td>\n",
       "      <td>NaN</td>\n",
       "      <td>NaN</td>\n",
       "      <td>NaN</td>\n",
       "      <td>NaN</td>\n",
       "      <td>NaN</td>\n",
       "      <td>NaN</td>\n",
       "      <td>NaN</td>\n",
       "      <td>NaN</td>\n",
       "      <td>NaN</td>\n",
       "      <td>NaN</td>\n",
       "      <td>NaN</td>\n",
       "      <td>NaN</td>\n",
       "      <td>NaN</td>\n",
       "      <td>NaN</td>\n",
       "    </tr>\n",
       "    <tr>\n",
       "      <th>3</th>\n",
       "      <td>1000048</td>\n",
       "      <td>1000048</td>\n",
       "      <td>NaN</td>\n",
       "      <td>NaN</td>\n",
       "      <td>NaN</td>\n",
       "      <td>NaN</td>\n",
       "      <td>NaN</td>\n",
       "      <td>NaN</td>\n",
       "      <td>NaN</td>\n",
       "      <td>NaN</td>\n",
       "      <td>NaN</td>\n",
       "      <td>NaN</td>\n",
       "      <td>NaN</td>\n",
       "      <td>NaN</td>\n",
       "      <td>NaN</td>\n",
       "      <td>NaN</td>\n",
       "      <td>NaN</td>\n",
       "      <td>NaN</td>\n",
       "      <td>NaN</td>\n",
       "    </tr>\n",
       "    <tr>\n",
       "      <th>4</th>\n",
       "      <td>1000055</td>\n",
       "      <td>1000055</td>\n",
       "      <td>NaN</td>\n",
       "      <td>NaN</td>\n",
       "      <td>NaN</td>\n",
       "      <td>NaN</td>\n",
       "      <td>NaN</td>\n",
       "      <td>NaN</td>\n",
       "      <td>NaN</td>\n",
       "      <td>NaN</td>\n",
       "      <td>NaN</td>\n",
       "      <td>NaN</td>\n",
       "      <td>NaN</td>\n",
       "      <td>NaN</td>\n",
       "      <td>NaN</td>\n",
       "      <td>NaN</td>\n",
       "      <td>NaN</td>\n",
       "      <td>NaN</td>\n",
       "      <td>NaN</td>\n",
       "    </tr>\n",
       "  </tbody>\n",
       "</table>\n",
       "</div>"
      ],
      "text/plain": [
       "       FID      IID f.40006.0.0 f.40006.1.0 f.40006.2.0 f.40006.3.0  \\\n",
       "0  1000013  1000013         NaN         NaN         NaN         NaN   \n",
       "1  1000024  1000024         NaN         NaN         NaN         NaN   \n",
       "2  1000036  1000036         NaN         NaN         NaN         NaN   \n",
       "3  1000048  1000048         NaN         NaN         NaN         NaN   \n",
       "4  1000055  1000055         NaN         NaN         NaN         NaN   \n",
       "\n",
       "  f.40006.4.0 f.40006.5.0 f.40006.6.0 f.40006.7.0 f.40006.8.0 f.40006.9.0  \\\n",
       "0         NaN         NaN         NaN         NaN         NaN         NaN   \n",
       "1         NaN         NaN         NaN         NaN         NaN         NaN   \n",
       "2         NaN         NaN         NaN         NaN         NaN         NaN   \n",
       "3         NaN         NaN         NaN         NaN         NaN         NaN   \n",
       "4         NaN         NaN         NaN         NaN         NaN         NaN   \n",
       "\n",
       "  f.40006.10.0 f.40006.11.0  f.40006.12.0 f.40006.13.0  f.40006.14.0  \\\n",
       "0          NaN          NaN           NaN          NaN           NaN   \n",
       "1          NaN          NaN           NaN          NaN           NaN   \n",
       "2          NaN          NaN           NaN          NaN           NaN   \n",
       "3          NaN          NaN           NaN          NaN           NaN   \n",
       "4          NaN          NaN           NaN          NaN           NaN   \n",
       "\n",
       "  f.40006.15.0 f.40006.16.0  \n",
       "0          NaN          NaN  \n",
       "1          NaN          NaN  \n",
       "2          NaN          NaN  \n",
       "3          NaN          NaN  \n",
       "4          NaN          NaN  "
      ]
     },
     "execution_count": 4,
     "metadata": {},
     "output_type": "execute_result"
    }
   ],
   "source": [
    "data.head()"
   ]
  },
  {
   "cell_type": "code",
   "execution_count": 5,
   "metadata": {},
   "outputs": [
    {
     "name": "stdout",
     "output_type": "stream",
     "text": [
      "7646\n",
      "84722\n"
     ]
    }
   ],
   "source": [
    "data['Ca'] = False\n",
    "data['PCa'] = False\n",
    "for (column_name,column_data) in data.iteritems():\n",
    "    if column_name == 'FID' or column_name == 'IID' or column_name == 'PCa' or column_name == 'Ca':\n",
    "        continue\n",
    "    else:\n",
    "        data['PCa'] |= (column_data == 'C61')\n",
    "        data['Ca'] |= column_data.notna()\n",
    "        \n",
    "for (column_name,column_data) in data.iteritems():\n",
    "    if column_name == 'FID' or column_name == 'IID' or column_name == 'PCa' or column_name == 'Ca':\n",
    "        continue\n",
    "    else:\n",
    "        data['PCa'] &= ((column_data == 'C61') | column_data.isna())\n",
    "\n",
    "print(sum(list(data['PCa'])))\n",
    "print(sum(list(data['Ca'])))"
   ]
  },
  {
   "cell_type": "code",
   "execution_count": 6,
   "metadata": {},
   "outputs": [
    {
     "data": {
      "text/plain": [
       "7646"
      ]
     },
     "execution_count": 6,
     "metadata": {},
     "output_type": "execute_result"
    }
   ],
   "source": [
    "subdata = data.loc[:,['FID','IID','PCa']]\n",
    "subdata.loc[:,'PCa'] = subdata.loc[:,'PCa'].astype('int8')\n",
    "sum(subdata['PCa'])"
   ]
  },
  {
   "cell_type": "code",
   "execution_count": 7,
   "metadata": {},
   "outputs": [
    {
     "data": {
      "text/plain": [
       "502485"
      ]
     },
     "execution_count": 7,
     "metadata": {},
     "output_type": "execute_result"
    }
   ],
   "source": [
    "len(subdata)"
   ]
  },
  {
   "cell_type": "code",
   "execution_count": 8,
   "metadata": {},
   "outputs": [
    {
     "data": {
      "text/html": [
       "<div>\n",
       "<style scoped>\n",
       "    .dataframe tbody tr th:only-of-type {\n",
       "        vertical-align: middle;\n",
       "    }\n",
       "\n",
       "    .dataframe tbody tr th {\n",
       "        vertical-align: top;\n",
       "    }\n",
       "\n",
       "    .dataframe thead th {\n",
       "        text-align: right;\n",
       "    }\n",
       "</style>\n",
       "<table border=\"1\" class=\"dataframe\">\n",
       "  <thead>\n",
       "    <tr style=\"text-align: right;\">\n",
       "      <th></th>\n",
       "      <th>FID</th>\n",
       "      <th>IID</th>\n",
       "      <th>PCa</th>\n",
       "    </tr>\n",
       "  </thead>\n",
       "  <tbody>\n",
       "    <tr>\n",
       "      <th>22</th>\n",
       "      <td>1000238</td>\n",
       "      <td>1000238</td>\n",
       "      <td>1</td>\n",
       "    </tr>\n",
       "    <tr>\n",
       "      <th>50</th>\n",
       "      <td>1000518</td>\n",
       "      <td>1000518</td>\n",
       "      <td>1</td>\n",
       "    </tr>\n",
       "    <tr>\n",
       "      <th>65</th>\n",
       "      <td>1000669</td>\n",
       "      <td>1000669</td>\n",
       "      <td>1</td>\n",
       "    </tr>\n",
       "    <tr>\n",
       "      <th>93</th>\n",
       "      <td>1000941</td>\n",
       "      <td>1000941</td>\n",
       "      <td>1</td>\n",
       "    </tr>\n",
       "    <tr>\n",
       "      <th>99</th>\n",
       "      <td>1001000</td>\n",
       "      <td>1001000</td>\n",
       "      <td>1</td>\n",
       "    </tr>\n",
       "    <tr>\n",
       "      <th>...</th>\n",
       "      <td>...</td>\n",
       "      <td>...</td>\n",
       "      <td>...</td>\n",
       "    </tr>\n",
       "    <tr>\n",
       "      <th>502060</th>\n",
       "      <td>6020819</td>\n",
       "      <td>6020819</td>\n",
       "      <td>1</td>\n",
       "    </tr>\n",
       "    <tr>\n",
       "      <th>502143</th>\n",
       "      <td>6021646</td>\n",
       "      <td>6021646</td>\n",
       "      <td>1</td>\n",
       "    </tr>\n",
       "    <tr>\n",
       "      <th>502199</th>\n",
       "      <td>6022208</td>\n",
       "      <td>6022208</td>\n",
       "      <td>1</td>\n",
       "    </tr>\n",
       "    <tr>\n",
       "      <th>502257</th>\n",
       "      <td>6022785</td>\n",
       "      <td>6022785</td>\n",
       "      <td>1</td>\n",
       "    </tr>\n",
       "    <tr>\n",
       "      <th>502407</th>\n",
       "      <td>6024284</td>\n",
       "      <td>6024284</td>\n",
       "      <td>1</td>\n",
       "    </tr>\n",
       "  </tbody>\n",
       "</table>\n",
       "<p>7646 rows × 3 columns</p>\n",
       "</div>"
      ],
      "text/plain": [
       "            FID      IID  PCa\n",
       "22      1000238  1000238    1\n",
       "50      1000518  1000518    1\n",
       "65      1000669  1000669    1\n",
       "93      1000941  1000941    1\n",
       "99      1001000  1001000    1\n",
       "...         ...      ...  ...\n",
       "502060  6020819  6020819    1\n",
       "502143  6021646  6021646    1\n",
       "502199  6022208  6022208    1\n",
       "502257  6022785  6022785    1\n",
       "502407  6024284  6024284    1\n",
       "\n",
       "[7646 rows x 3 columns]"
      ]
     },
     "execution_count": 8,
     "metadata": {},
     "output_type": "execute_result"
    }
   ],
   "source": [
    "subdata.loc[subdata[\"PCa\"] == True]"
   ]
  },
  {
   "cell_type": "code",
   "execution_count": 9,
   "metadata": {},
   "outputs": [
    {
     "ename": "NameError",
     "evalue": "name 'out_path2' is not defined",
     "output_type": "error",
     "traceback": [
      "\u001b[0;31m---------------------------------------------------------------------------\u001b[0m",
      "\u001b[0;31mNameError\u001b[0m                                 Traceback (most recent call last)",
      "\u001b[0;32m<ipython-input-9-a16d25b1af35>\u001b[0m in \u001b[0;36m<module>\u001b[0;34m\u001b[0m\n\u001b[0;32m----> 1\u001b[0;31m \u001b[0msubdata\u001b[0m\u001b[0;34m.\u001b[0m\u001b[0mto_csv\u001b[0m\u001b[0;34m(\u001b[0m\u001b[0mout_path2\u001b[0m\u001b[0;34m,\u001b[0m\u001b[0msep\u001b[0m \u001b[0;34m=\u001b[0m \u001b[0;34m' '\u001b[0m\u001b[0;34m,\u001b[0m\u001b[0mindex\u001b[0m \u001b[0;34m=\u001b[0m \u001b[0;32mFalse\u001b[0m\u001b[0;34m)\u001b[0m\u001b[0;34m\u001b[0m\u001b[0;34m\u001b[0m\u001b[0m\n\u001b[0m",
      "\u001b[0;31mNameError\u001b[0m: name 'out_path2' is not defined"
     ]
    }
   ],
   "source": [
    "subdata.to_csv(out_path,sep = ' ',index = False)"
   ]
  },
  {
   "cell_type": "code",
   "execution_count": null,
   "metadata": {},
   "outputs": [],
   "source": [
    "Ca_subset = data.loc[data['Ca']]\n",
    "\n",
    "nonPCa_Ca_subset = Ca_subset.loc[(not item for item in Ca_subset['PCa'])]\n",
    "\n",
    "len(nonPCa_Ca_subset)\n",
    "\n",
    "nonPCa_Ca_subset[['FID','IID']].to_csv('exclude_nonPCa_Ca.txt',header=False,index=False,sep=' ')"
   ]
  },
  {
   "cell_type": "code",
   "execution_count": null,
   "metadata": {},
   "outputs": [],
   "source": []
  }
 ],
 "metadata": {
  "kernelspec": {
   "display_name": "Python 3",
   "language": "python",
   "name": "python3"
  },
  "language_info": {
   "codemirror_mode": {
    "name": "ipython",
    "version": 3
   },
   "file_extension": ".py",
   "mimetype": "text/x-python",
   "name": "python",
   "nbconvert_exporter": "python",
   "pygments_lexer": "ipython3",
   "version": "3.8.3"
  }
 },
 "nbformat": 4,
 "nbformat_minor": 4
}
