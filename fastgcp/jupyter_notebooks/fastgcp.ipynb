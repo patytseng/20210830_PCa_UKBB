{
 "cells": [
  {
   "cell_type": "code",
   "execution_count": 1,
   "metadata": {},
   "outputs": [],
   "source": [
    "source('fastCGP-master/main.R')"
   ]
  },
  {
   "cell_type": "code",
   "execution_count": 2,
   "metadata": {},
   "outputs": [],
   "source": [
    "snp2gene_file = '/gpfs/home/ptseng/Torkamani_Projects/20210830_PCa_UKBB/fastgcp/snp2gene.txt'\n",
    "snp_chr_pos_p_file = '/gpfs/home/ptseng/Torkamani_Projects/20210830_PCa_UKBB/fastgcp/snp_chr_pos_p.txt'"
   ]
  },
  {
   "cell_type": "code",
   "execution_count": 3,
   "metadata": {},
   "outputs": [
    {
     "name": "stdout",
     "output_type": "stream",
     "text": [
      "\n",
      "Note: all gene names will be converted to uppercase\n",
      "\n",
      "Number of genes in your snp2gene file: 125 \n",
      "Number of SNPs in your snp_chr_pos_p file: 3161 \n",
      "Number of SNPs mapped to genes: 3161 \n",
      "\n",
      "\n",
      "\n",
      "\n",
      "@@@@-------------------------------- COMPUTATION BEGINS --------------------------------@@@@\n",
      "\n",
      "\n",
      "Number of genes already computed:\n",
      "\n",
      "\n",
      "\n",
      "\n",
      "@@@@--------------------------------- COMPUTATION ENDS ---------------------------------@@@@\n",
      "\n",
      "\n",
      "Total computational time: 0.0 minutes \n"
     ]
    }
   ],
   "source": [
    "results = fastCGP(snp2gene_file,snp_chr_pos_p_file)"
   ]
  },
  {
   "cell_type": "code",
   "execution_count": 4,
   "metadata": {},
   "outputs": [
    {
     "name": "stdout",
     "output_type": "stream",
     "text": [
      "'data.frame':\t125 obs. of  2 variables:\n",
      " $ gene: chr  \"XKR4\" \"FGF19\" \"RPS20\" \"WDPCP:AC096664.1\" ...\n",
      " $ p   : num  0.03743 0.99968 0.00137 0.98925 0.99937 ...\n"
     ]
    }
   ],
   "source": [
    "str(results)"
   ]
  },
  {
   "cell_type": "code",
   "execution_count": 11,
   "metadata": {},
   "outputs": [],
   "source": [
    "write.table(results,file='/gpfs/home/ptseng/Torkamani_Projects/20210830_PCa_UKBB/fastgcp/gene_pval.txt',row.names=FALSE)"
   ]
  },
  {
   "cell_type": "code",
   "execution_count": null,
   "metadata": {},
   "outputs": [],
   "source": []
  }
 ],
 "metadata": {
  "kernelspec": {
   "display_name": "R",
   "language": "R",
   "name": "ir"
  },
  "language_info": {
   "codemirror_mode": "r",
   "file_extension": ".r",
   "mimetype": "text/x-r-source",
   "name": "R",
   "pygments_lexer": "r",
   "version": "4.0.0"
  }
 },
 "nbformat": 4,
 "nbformat_minor": 4
}
