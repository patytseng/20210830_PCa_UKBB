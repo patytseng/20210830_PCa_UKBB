{
 "cells": [
  {
   "cell_type": "code",
   "execution_count": 1,
   "metadata": {},
   "outputs": [],
   "source": [
    "library(data.table)\n",
    "library(ggplot2)"
   ]
  },
  {
   "cell_type": "code",
   "execution_count": 2,
   "metadata": {},
   "outputs": [],
   "source": [
    "source('/gpfs/home/ptseng/LTFH/assign_ltfh.R')"
   ]
  },
  {
   "cell_type": "code",
   "execution_count": 3,
   "metadata": {},
   "outputs": [],
   "source": [
    "raw_out_path <- '../regenie_input/PCa_pheno_raw.txt'"
   ]
  },
  {
   "cell_type": "code",
   "execution_count": 4,
   "metadata": {},
   "outputs": [],
   "source": [
    "data <- fread(raw_out_path,sep=' ')"
   ]
  },
  {
   "cell_type": "code",
   "execution_count": 5,
   "metadata": {},
   "outputs": [],
   "source": [
    "subdata <- data.table(data[,'IID'])"
   ]
  },
  {
   "cell_type": "code",
   "execution_count": 6,
   "metadata": {},
   "outputs": [],
   "source": [
    "temp_df <- subdata\n",
    "temp_df$Ca <- FALSE\n",
    "temp_df$PCa <- FALSE\n",
    "for (field in c(\n",
    "    \"f.40006.0.0\", \"f.40006.1.0\", \"f.40006.2.0\", \"f.40006.3.0\", \"f.40006.4.0\", \"f.40006.5.0\", \n",
    "    \"f.40006.6.0\", \"f.40006.7.0\", \"f.40006.8.0\", \"f.40006.9.0\", \"f.40006.10.0\", \"f.40006.11.0\", \n",
    "    \"f.40006.12.0\", \"f.40006.13.0\", \"f.40006.14.0\", \"f.40006.15.0\", \"f.40006.16.0\"\n",
    ")) {\n",
    "    temp_df$PCa <- temp_df$PCa | (data[ , ..field] == 'C61')\n",
    "    temp_df$Ca <- temp_df$Ca | !is.na(data[,..field])\n",
    "}\n",
    "temp_df[is.na(temp_df$PCa),'PCa'] <- FALSE\n",
    "subdata[,'CHILD_STATUS'] <- as.integer(temp_df$PCa)"
   ]
  },
  {
   "cell_type": "code",
   "execution_count": 18,
   "metadata": {},
   "outputs": [
    {
     "data": {
      "text/html": [
       "0.0193536189774921"
      ],
      "text/latex": [
       "0.0193536189774921"
      ],
      "text/markdown": [
       "0.0193536189774921"
      ],
      "text/plain": [
       "[1] 0.01935362"
      ]
     },
     "metadata": {},
     "output_type": "display_data"
    }
   ],
   "source": [
    "length(subdata[subdata$CHILD_STATUS == 1]$IID)/length(subdata$IID)"
   ]
  },
  {
   "cell_type": "code",
   "execution_count": 8,
   "metadata": {},
   "outputs": [],
   "source": [
    "iteration_1 <- TRUE\n",
    "PCa_catcher <- data.frame(IID=data[,'IID'],PCa=FALSE)\n",
    "na_catcher <- data.frame(IID=data[,'IID'],na=TRUE)\n",
    "\n",
    "for (field in c(\n",
    "    \"f.20107.0.0\", \"f.20107.0.1\", \"f.20107.0.2\", \"f.20107.0.3\", \"f.20107.0.4\", \"f.20107.0.5\", \"f.20107.0.6\", \"f.20107.0.7\", \"f.20107.0.8\", \"f.20107.0.9\", \n",
    "    \"f.20107.1.0\", \"f.20107.1.1\", \"f.20107.1.2\", \"f.20107.1.3\", \"f.20107.1.4\", \"f.20107.1.5\", \"f.20107.1.6\", \"f.20107.1.7\", \"f.20107.1.8\", \"f.20107.1.9\", \n",
    "    \"f.20107.2.0\", \"f.20107.2.1\", \"f.20107.2.2\", \"f.20107.2.3\", \"f.20107.2.4\", \"f.20107.2.5\", \"f.20107.2.6\", \"f.20107.2.7\", \"f.20107.2.8\", \"f.20107.2.9\", \n",
    "    \"f.20107.3.0\", \"f.20107.3.1\", \"f.20107.3.2\", \"f.20107.3.3\", \"f.20107.3.4\", \"f.20107.3.5\", \"f.20107.3.6\", \"f.20107.3.7\", \"f.20107.3.8\", \"f.20107.3.9\"\n",
    ")) {\n",
    "    temp <- (data[ , ..field] == 13)\n",
    "    temp[is.na(temp)] <- FALSE\n",
    "    PCa_catcher$PCa <- PCa_catcher$PCa | temp\n",
    "    \n",
    "    temp1 <- (data[,..field] < 0)\n",
    "    temp2 <- is.na(data[,..field])\n",
    "    temp1[is.na(temp)] <- FALSE\n",
    "    temp2[is.na(temp)] <- FALSE\n",
    "    temp <- temp1 | temp2\n",
    "    na_catcher$na <- na_catcher$na & temp\n",
    "}\n",
    "\n",
    "na_catcher$na[na_catcher$na==TRUE] <- NA\n",
    "\n",
    "subdata[,'P1_STATUS'] <- as.integer(PCa_catcher$PCa | na_catcher$na)"
   ]
  },
  {
   "cell_type": "code",
   "execution_count": 9,
   "metadata": {},
   "outputs": [],
   "source": [
    "iteration_1 <- TRUE\n",
    "PCa_catcher <- data.frame(IID=data[,'IID'],PCa=FALSE)\n",
    "na_catcher <- data.frame(IID=data[,'IID'],na=TRUE)\n",
    "\n",
    "for (field in c(\n",
    "    \"f.20110.0.0\", \"f.20110.0.1\", \"f.20110.0.2\", \"f.20110.0.3\", \"f.20110.0.4\", \"f.20110.0.5\", \"f.20110.0.6\", \"f.20110.0.7\", \"f.20110.0.8\", \"f.20110.0.9\", \"f.20110.0.10\", \n",
    "    \"f.20110.1.0\", \"f.20110.1.1\", \"f.20110.1.2\", \"f.20110.1.3\", \"f.20110.1.4\", \"f.20110.1.5\", \"f.20110.1.6\", \"f.20110.1.7\", \"f.20110.1.8\", \"f.20110.1.9\", \"f.20110.1.10\", \n",
    "    \"f.20110.2.0\", \"f.20110.2.1\", \"f.20110.2.2\", \"f.20110.2.3\", \"f.20110.2.4\", \"f.20110.2.5\", \"f.20110.2.6\", \"f.20110.2.7\", \"f.20110.2.8\", \"f.20110.2.9\", \"f.20110.2.10\", \n",
    "    \"f.20110.3.0\", \"f.20110.3.1\", \"f.20110.3.2\", \"f.20110.3.3\", \"f.20110.3.4\", \"f.20110.3.5\", \"f.20110.3.6\", \"f.20110.3.7\", \"f.20110.3.8\", \"f.20110.3.9\", \"f.20110.3.10\"\n",
    ")) {\n",
    "    temp <- (data[,..field] == 13)\n",
    "    temp[is.na(temp)] <- FALSE\n",
    "    PCa_catcher$PCa <- PCa_catcher$PCa | temp\n",
    "    \n",
    "    temp1 <- (data[,..field] < 0)\n",
    "    temp2 <- is.na(data[,..field])\n",
    "    temp1[is.na(temp)] <- FALSE\n",
    "    temp2[is.na(temp)] <- FALSE\n",
    "    temp <- temp1 | temp2\n",
    "    na_catcher$na <- na_catcher$na & temp\n",
    "}\n",
    "\n",
    "na_catcher$na[na_catcher$na==TRUE] <- NA\n",
    "\n",
    "\n",
    "subdata[,'P2_STATUS'] <- as.integer(PCa_catcher$PCa | na_catcher$na)\n",
    "subdata[,'P2_STATUS'] <- NA"
   ]
  },
  {
   "cell_type": "code",
   "execution_count": 10,
   "metadata": {},
   "outputs": [],
   "source": [
    "working_total <- data.frame(IID=data[,'IID'],siblings=NA)\n",
    "\n",
    "temp_df <- data[,c(\n",
    "    \"IID\",\n",
    "    \"f.1873.0.0\", \"f.1873.1.0\", \"f.1873.2.0\", \"f.1873.3.0\",\n",
    "    \"f.1883.0.0\", \"f.1883.1.0\", \"f.1883.2.0\", \"f.1883.3.0\"\n",
    ")]\n",
    "brothers <- temp_df[,1]\n",
    "sisters <- temp_df[,1]\n",
    "brothers[!is.na(temp_df$f.1873.0.0),\"num\"] <- apply(temp_df[!is.na(temp_df$f.1873.0.0),c(\"f.1873.0.0\", \"f.1873.1.0\", \"f.1873.2.0\", \"f.1873.3.0\")], 1, function(x) max(x[!is.na(x)]))\n",
    "sisters[!is.na(temp_df$f.1873.0.0),\"num\"] <- apply(temp_df[!is.na(temp_df$f.1883.0.0),c(\"f.1883.0.0\", \"f.1883.1.0\", \"f.1883.2.0\", \"f.1883.3.0\")], 1, function(x) max(x[!is.na(x)]))\n",
    "total_siblings <- brothers$num + sisters$num\n",
    "\n",
    "\n",
    "subdata[,'NUM_SIBS'] <- total_siblings"
   ]
  },
  {
   "cell_type": "code",
   "execution_count": 11,
   "metadata": {},
   "outputs": [],
   "source": [
    "iteration_1 <- TRUE\n",
    "PD_catcher <- data.frame(IID=data[,'IID'],PD=FALSE)\n",
    "na_catcher <- data.frame(IID=data[,'IID'],na=TRUE)\n",
    "\n",
    "for (field in c(\n",
    "    \"f.20111.0.0\", \"f.20111.0.1\", \"f.20111.0.2\", \"f.20111.0.3\", \"f.20111.0.4\", \"f.20111.0.5\", \"f.20111.0.6\", \"f.20111.0.7\", \"f.20111.0.8\", \"f.20111.0.9\", \"f.20111.0.10\", \"f.20111.0.11\", \n",
    "    \"f.20111.1.0\", \"f.20111.1.1\", \"f.20111.1.2\", \"f.20111.1.3\", \"f.20111.1.4\", \"f.20111.1.5\", \"f.20111.1.6\", \"f.20111.1.7\", \"f.20111.1.8\", \"f.20111.1.9\", \"f.20111.1.10\", \"f.20111.1.11\", \n",
    "    \"f.20111.2.0\", \"f.20111.2.1\", \"f.20111.2.2\", \"f.20111.2.3\", \"f.20111.2.4\", \"f.20111.2.5\", \"f.20111.2.6\", \"f.20111.2.7\", \"f.20111.2.8\", \"f.20111.2.9\", \"f.20111.2.10\", \"f.20111.2.11\", \n",
    "    \"f.20111.3.0\", \"f.20111.3.1\", \"f.20111.3.2\", \"f.20111.3.3\", \"f.20111.3.4\", \"f.20111.3.5\", \"f.20111.3.6\", \"f.20111.3.7\", \"f.20111.3.8\", \"f.20111.3.9\", \"f.20111.3.10\", \"f.20111.3.11\"\n",
    ")) {\n",
    "    temp <- (data[, ..field] == 13)\n",
    "    temp[is.na(temp)] <- FALSE\n",
    "    PD_catcher$PD <- PD_catcher$PD | temp\n",
    "    \n",
    "    temp1 <- (data[,..field] < 0)\n",
    "    temp2 <- is.na(data[,..field])\n",
    "    temp1[is.na(temp)] <- FALSE\n",
    "    temp2[is.na(temp)] <- FALSE\n",
    "    temp <- temp1 | temp2\n",
    "    na_catcher$na <- na_catcher$na & temp\n",
    "}\n",
    "\n",
    "na_catcher$na[na_catcher$na==TRUE] <- NA\n",
    "\n",
    "\n",
    "subdata[,'SIB_STATUS'] <- as.integer(PD_catcher$PD | na_catcher$na)"
   ]
  },
  {
   "cell_type": "code",
   "execution_count": 12,
   "metadata": {},
   "outputs": [],
   "source": [
    "subdata <- data.frame(subdata)"
   ]
  },
  {
   "cell_type": "code",
   "execution_count": null,
   "metadata": {},
   "outputs": [],
   "source": [
    "result = create_pheno(\n",
    "    data=subdata,\n",
    "    trait_h2=0.57,\n",
    "    T_val_child=qnorm(mean(subdata[,'CHILD_STATUS'],na.rm=T),lower.tail = FALSE),\n",
    "    T_val_parent=qnorm(mean(c(subdata[,'P1_STATUS'],subdata[,'P2_STATUS']),na.rm=T),lower.tail = FALSE),\n",
    "    relevant_trait_child='CHILD_STATUS',\n",
    "    relevant_trait_dad='P1_STATUS',\n",
    "    relevant_trait_mom='P2_STATUS',\n",
    "    number_siblings_col='NUM_SIBS',\n",
    "    relevant_trait_sib='SIB_STATUS',\n",
    "    maximum_siblings_to_compute=10\n",
    ")"
   ]
  },
  {
   "cell_type": "code",
   "execution_count": null,
   "metadata": {},
   "outputs": [],
   "source": [
    "result_df <- data.table(result)\n",
    "names(result_df) <- c('IID','ltfh_cc','ltfh_nosib','ltfh')\n",
    "result_df$IID <- as.character(result_df$IID)"
   ]
  },
  {
   "cell_type": "code",
   "execution_count": null,
   "metadata": {},
   "outputs": [],
   "source": [
    "names(result_df) <- c('pejID','ltfh_cc','ltfh_nosib','ltfh')\n",
    "matching = read.csv('/mnt/stsi/stsi1/ptseng/UKBB_Resources/phenos/matched_torkamani_pejman_ids.txt',sep='\\t')\n",
    "names(matching) <- c('torkID','pejID')"
   ]
  },
  {
   "cell_type": "code",
   "execution_count": null,
   "metadata": {},
   "outputs": [],
   "source": [
    "output = merge(result_df,matching,by='pejID',all=TRUE)\n",
    "output = output[output$torkID != 'f.eid',c('torkID','torkID','ltfh')]"
   ]
  },
  {
   "cell_type": "code",
   "execution_count": null,
   "metadata": {},
   "outputs": [],
   "source": [
    "names(output) <- c('FID','IID','ltfh')"
   ]
  },
  {
   "cell_type": "code",
   "execution_count": null,
   "metadata": {},
   "outputs": [],
   "source": [
    "output$FID <- as.integer(output$FID)\n",
    "output$IID <- as.integer(output$IID)"
   ]
  },
  {
   "cell_type": "code",
   "execution_count": null,
   "metadata": {},
   "outputs": [],
   "source": [
    "fwrite(output,'../regenie_input/PCa_ltfh.txt',sep=' ',na='NA',quote=FALSE)"
   ]
  },
  {
   "cell_type": "code",
   "execution_count": null,
   "metadata": {},
   "outputs": [],
   "source": [
    "subdata <- data.table(subdata)\n",
    "names(matching) <- c('torkID','IID')\n",
    "names(result_df) <- c('IID','ltfh_cc','ltfh_nosib','ltfh')\n",
    "composite <- merge(matching,subdata)\n",
    "composite <- merge(composite,result_df[,c('IID','ltfh')])\n",
    "composite <- data.table(composite)"
   ]
  },
  {
   "cell_type": "code",
   "execution_count": null,
   "metadata": {
    "tags": []
   },
   "outputs": [],
   "source": [
    "composite[!is.finite(composite$ltfh),]"
   ]
  },
  {
   "cell_type": "code",
   "execution_count": null,
   "metadata": {},
   "outputs": [],
   "source": [
    "composite[composite$IID == 5885687]"
   ]
  },
  {
   "cell_type": "code",
   "execution_count": null,
   "metadata": {},
   "outputs": [],
   "source": [
    "length(output$IID)"
   ]
  },
  {
   "cell_type": "code",
   "execution_count": null,
   "metadata": {},
   "outputs": [],
   "source": [
    "output[is.na(output$ltfh)]"
   ]
  },
  {
   "cell_type": "code",
   "execution_count": null,
   "metadata": {},
   "outputs": [],
   "source": [
    "outputted_data <- fread('../regenie_input/PCa_ltfh.txt')"
   ]
  },
  {
   "cell_type": "code",
   "execution_count": null,
   "metadata": {},
   "outputs": [],
   "source": [
    "length(outputted_data[outputted_data$ltfh > 0]$ltfh)"
   ]
  },
  {
   "cell_type": "code",
   "execution_count": null,
   "metadata": {},
   "outputs": [],
   "source": [
    "length(outputted_data$ltfh)"
   ]
  },
  {
   "cell_type": "code",
   "execution_count": null,
   "metadata": {},
   "outputs": [],
   "source": [
    "length(outputted_data[outputted_data$ltfh > 0]$ltfh)/length(outputted_data$ltfh)*100"
   ]
  },
  {
   "cell_type": "code",
   "execution_count": 26,
   "metadata": {},
   "outputs": [
    {
     "data": {
      "text/html": [
       "0.0193536189774921"
      ],
      "text/latex": [
       "0.0193536189774921"
      ],
      "text/markdown": [
       "0.0193536189774921"
      ],
      "text/plain": [
       "[1] 0.01935362"
      ]
     },
     "metadata": {},
     "output_type": "display_data"
    }
   ],
   "source": [
    "length(subdata[subdata$CHILD_STATUS == 1,]$IID)/length(subdata$IID)"
   ]
  },
  {
   "cell_type": "code",
   "execution_count": null,
   "metadata": {},
   "outputs": [],
   "source": []
  }
 ],
 "metadata": {
  "kernelspec": {
   "display_name": "R",
   "language": "R",
   "name": "ir"
  },
  "language_info": {
   "codemirror_mode": "r",
   "file_extension": ".r",
   "mimetype": "text/x-r-source",
   "name": "R",
   "pygments_lexer": "r",
   "version": "4.0.0"
  }
 },
 "nbformat": 4,
 "nbformat_minor": 4
}
