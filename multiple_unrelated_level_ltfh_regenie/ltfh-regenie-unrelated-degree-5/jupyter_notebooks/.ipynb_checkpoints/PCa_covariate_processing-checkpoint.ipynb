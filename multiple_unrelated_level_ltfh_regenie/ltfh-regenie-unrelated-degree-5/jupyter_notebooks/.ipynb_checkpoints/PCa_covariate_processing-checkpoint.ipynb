{
 "cells": [
  {
   "cell_type": "code",
   "execution_count": 1,
   "metadata": {},
   "outputs": [],
   "source": [
    "from matplotlib import pyplot as plt\n",
    "import pandas as pd\n",
    "import numpy as np"
   ]
  },
  {
   "cell_type": "code",
   "execution_count": 2,
   "metadata": {},
   "outputs": [],
   "source": [
    "in_path = '/mnt/stsi/stsi1/ptseng/UKBB_Resources/phenos/pejman_request.txt'\n",
    "pc_path = '/mnt/stsi/stsi1/sfchen/210301_ukbb_pca/bigsnpr_pca_ukbb_488371.csv'\n",
    "raw_out_path = '../regenie_input/PCa_covar_raw.txt'\n",
    "out_path = '../regenie_input/PCa_covar.txt'"
   ]
  },
  {
   "cell_type": "code",
   "execution_count": 3,
   "metadata": {},
   "outputs": [],
   "source": [
    "def find_index(input_list,targets):\n",
    "    index = 0\n",
    "    index_list = []\n",
    "    for element in input_list:\n",
    "        for target in targets:\n",
    "            if element == target:\n",
    "                targets.remove(target)\n",
    "                index_list.append(index)\n",
    "        index += 1\n",
    "    return (index_list,targets)"
   ]
  },
  {
   "cell_type": "code",
   "execution_count": null,
   "metadata": {
    "tags": []
   },
   "outputs": [
    {
     "name": "stdout",
     "output_type": "stream",
     "text": [
      "Targets at positions: 24\n",
      "Missing targets: \n"
     ]
    }
   ],
   "source": [
    "columns_of_interest = ['f.34.0.0']\n",
    "\n",
    "first_line = True\n",
    "with open(raw_out_path,'w') as outfile:\n",
    "    with open(in_path,'r') as infile:\n",
    "        for line in infile:\n",
    "            line = list(line[:-1].split(' '))\n",
    "            if first_line:\n",
    "                (indices, missing) = find_index(line, columns_of_interest)\n",
    "                print(f'Targets at positions: {\" \".join([str(i) for i in indices])}')\n",
    "                print(f'Missing targets: {\" \".join(missing)}')\n",
    "                first_line = False\n",
    "            output_list = line[:2] + [line[index] for index in indices]\n",
    "            output_line = ' '.join(output_list) + '\\n'\n",
    "            outfile.write(output_line)"
   ]
  },
  {
   "cell_type": "code",
   "execution_count": null,
   "metadata": {},
   "outputs": [],
   "source": [
    "matching = pd.read_csv('/mnt/stsi/stsi1/ptseng/UKBB_Resources/phenos/matched_torkamani_pejman_ids.txt',sep='\\t',low_memory=False)\n",
    "matching = matching.rename(columns={\n",
    "    'Pejman':'pejID',\n",
    "    'Torkamani':'torkID'\n",
    "})\n",
    "matching = matching[['pejID','torkID']]\n",
    "matching = matching.loc[matching['pejID'] != 'f.eid']\n",
    "matching = matching.astype('int64')\n",
    "matching.head()"
   ]
  },
  {
   "cell_type": "code",
   "execution_count": null,
   "metadata": {},
   "outputs": [],
   "source": [
    "data = pd.read_csv(raw_out_path,sep=' ')\n",
    "data = data.rename(columns={\n",
    "    'IID':'pejID',\n",
    "    'f.34.0.0':'year of birth',\n",
    "})\n",
    "data['pejID'] = data['pejID'].astype('int64')\n",
    "data = data.drop('FID',1)\n",
    "data = data.merge(matching)\n",
    "data[['FID']] = data['torkID']\n",
    "data = data.rename(columns={'torkID':'IID'})\n",
    "data = data[['FID','IID','year of birth']]"
   ]
  },
  {
   "cell_type": "code",
   "execution_count": null,
   "metadata": {},
   "outputs": [],
   "source": [
    "pc = pd.read_csv(pc_path)\n",
    "pc = pc.rename(columns = {\n",
    "    'Unnamed: 0':'IID'\n",
    "})\n",
    "pc.head()"
   ]
  },
  {
   "cell_type": "code",
   "execution_count": null,
   "metadata": {},
   "outputs": [],
   "source": [
    "data = data.merge(pc)\n",
    "data.head()"
   ]
  },
  {
   "cell_type": "code",
   "execution_count": null,
   "metadata": {},
   "outputs": [],
   "source": [
    "data['age'] = 2020 - data['year of birth']"
   ]
  },
  {
   "cell_type": "code",
   "execution_count": null,
   "metadata": {},
   "outputs": [],
   "source": [
    "subdata = data[(['FID','IID','age']+[f'PC{i}' for i in range(1,21)])]"
   ]
  },
  {
   "cell_type": "code",
   "execution_count": null,
   "metadata": {},
   "outputs": [],
   "source": [
    "subdata.to_csv(out_path,sep=' ',index=False)"
   ]
  },
  {
   "cell_type": "code",
   "execution_count": null,
   "metadata": {},
   "outputs": [],
   "source": []
  }
 ],
 "metadata": {
  "kernelspec": {
   "display_name": "Python 3",
   "language": "python",
   "name": "python3"
  },
  "language_info": {
   "codemirror_mode": {
    "name": "ipython",
    "version": 3
   },
   "file_extension": ".py",
   "mimetype": "text/x-python",
   "name": "python",
   "nbconvert_exporter": "python",
   "pygments_lexer": "ipython3",
   "version": "3.8.3"
  }
 },
 "nbformat": 4,
 "nbformat_minor": 4
}
